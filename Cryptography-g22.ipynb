{
 "cells": [
  {
   "cell_type": "code",
   "execution_count": 1,
   "metadata": {},
   "outputs": [],
   "source": [
    "\n",
    "#RC4 \n",
    "\n",
    "def key(a): #function to convert alphabets into numbers(ASCII code)\n",
    "    y=[]\n",
    "    for i in a: #iterating over all letters\n",
    "        x=ord(i) #finding ASCII code\n",
    "        y.append(x) #appending into new list\n",
    "    return(y)\n",
    "\n",
    "def findt(a): #function makes the an array t with lenght of 256 , using which we can encode 256 bytes of data\n",
    "    y=key(a)\n",
    "    t=[]\n",
    "    j=0\n",
    "    for i in range(256):\n",
    "        j=j+1\n",
    "        t.append(y[i%len(y)]) #repeating elements in list y in order until 256th element.\n",
    "    return t\n",
    "\n",
    "def key_schedule(a): #function to perform key_scheduling \n",
    "    k=findt(a)\n",
    "    s=list(range(256)) #making a list s which contains(0,1,2,3,...255)\n",
    "    j=0\n",
    "    for i in range(256):\n",
    "        j=(j+s[i]+k[i%256])%256 #find new value for j over ever iteration \n",
    "        x=s[i]\n",
    "        s[i]=s[j]\n",
    "        s[j]=x   #swapping elements in s.\n",
    "    return(s)\n",
    "\n",
    "def pseudorandom(a,t): #fucntion to perform pseudorandam process\n",
    "    s=key_schedule(a) #getting s from key_schedule.\n",
    "    fz=[]\n",
    "    j=0\n",
    "    for i in range(len(t)): #iterating over length of the plain text.\n",
    "        j=(j+s[i])%256  #find new value for j over ever iteration \n",
    "        x=s[i]\n",
    "        s[i]=s[j]\n",
    "        s[j]=x  #swapping s\n",
    "        z=s[(s[i] + s[j])%256]\n",
    "        fz.append(z) #making fz from s which is of length of plain text.\n",
    "    return(fz)\n",
    "\n",
    "def encryptor(t,k): #encryption function\n",
    "    tnum=[] #to store ASCII code\n",
    "    final=[] #to store encrypted values\n",
    "    import numpy as np\n",
    "    for i in range(len(t)): #iterating over t \n",
    "        tnum.append(ord(t[i]))#coverting alphabets to numbers (ASCII code)\n",
    "        num=np.bitwise_xor(tnum[i],k[i]) #encrypting data using key from pseudorandom and performing bitwise xor\n",
    "        final.append(num) #storing encrypted values\n",
    "    return(final)\n",
    "\n",
    "def decryptor(t,k): #decryption function \n",
    "    final=[] #to store decrypted msg\n",
    "    msg=''\n",
    "    import numpy as np\n",
    "    for i in range(len(t)):\n",
    "        num=np.bitwise_xor(t[i],k[i])\n",
    "        msg=msg+chr(num)\n",
    "    return msg\n",
    "\n",
    "\n",
    "    \n",
    "\n",
    "#Affine ciper\n",
    "\n",
    "def gcd(a, b): #function to find GCD of numbers\n",
    "    x,y, u,v = 0,1, 1,0\n",
    "    while a != 0:\n",
    "        q, r = b//a, b%a\n",
    "        m, n = x-u*q, y-v*q\n",
    "        b,a, x,y, u,v = a,r, u,v, m,n\n",
    "    gcd = b\n",
    "    return gcd, x, y\n",
    "\n",
    "def modinv(a, m): #funciton to find modular inverse \n",
    "    egcd, x, y = gcd(a, m)\n",
    "    if egcd != 1:\n",
    "        return None # modular inverse does not exist\n",
    "    else:\n",
    "        return x % m \n",
    "\n",
    "\n",
    "def affine_encrypt(text, key):# affine cipher encryption function\n",
    "    x=''\n",
    "    for t in text:\n",
    "        x=x+chr((( key[0]*ord(t) + key[1] ) % 300)) #encrypting data with linear function \n",
    "    return x\n",
    "\n",
    "\n",
    "\n",
    "def affine_decrypt(cipher, key):# affine cipher decryption function\n",
    "    x=''\n",
    "    for c in cipher:\n",
    "        x=x+chr((( modinv(key[0],300)*(ord(c) - key[1]))% 300)) #decrypting data using key to find inverse of the function \n",
    "    return x\n",
    "#connecting RC4 and affineciper\n",
    "\n",
    "def link1(k,key): #link 1 between affine cipher and RC4\n",
    "    x=''\n",
    "    for i in k:\n",
    "        x=x+chr(i)\n",
    "    e_key=affine_encrypt(x,key) #encrypting RC4 key using affine cipher\n",
    "    return e_key\n",
    "def link2(k,key): #link 2 between affine cipher and RC4\n",
    "    e=affine_decrypt(k,key) #decrypting RC4 key using affine cipher\n",
    "    d_key=[]\n",
    "    for i in e:\n",
    "        d_key.append(ord(i))\n",
    "    return d_key\n",
    "    \n",
    "\n",
    "class messenger: #class to demonstrate the encryption algorithm\n",
    "    msg=''\n",
    "    keyr=''\n",
    "    keya=[]\n",
    "    def send():\n",
    "        global msg\n",
    "        msg=input(\"Enter Message:\")\n",
    "    def set_RC4key():\n",
    "        global keyr\n",
    "        keyr=input(\"Enter Key:\")\n",
    "    def set_affinekey():\n",
    "        global keya\n",
    "        l=[]\n",
    "        ak=input(\"Enter key:\")\n",
    "        for i in ak.split(\" \"):\n",
    "            l.append(int(i))\n",
    "        keya=l\n",
    "    def encrypt():\n",
    "        global msg\n",
    "        global keyr\n",
    "        global keya\n",
    "        fk=link1(pseudorandom(keyr,msg),keya)\n",
    "        df=link2(fk,keya)\n",
    "        code=encryptor(msg,df) \n",
    "        print(code)\n",
    "    def decrypt():\n",
    "        global msg\n",
    "        global keyr\n",
    "        global keya\n",
    "        fk=link1(pseudorandom(keyr,msg),keya)\n",
    "        df=link2(fk,keya)\n",
    "        code=encryptor(msg,df) \n",
    "        print(decryptor(code,df))\n",
    "    def RC4_encryptkey():\n",
    "        global msg\n",
    "        global keyr\n",
    "        print(pseudorandom(keyr,msg))\n",
    "        \n"
   ]
  },
  {
   "cell_type": "code",
   "execution_count": 2,
   "metadata": {},
   "outputs": [],
   "source": [
    "t1=messenger"
   ]
  },
  {
   "cell_type": "code",
   "execution_count": 3,
   "metadata": {},
   "outputs": [
    {
     "name": "stdout",
     "output_type": "stream",
     "text": [
      "Enter Message:hi i am in new delhi\n"
     ]
    }
   ],
   "source": [
    "t1.send()"
   ]
  },
  {
   "cell_type": "code",
   "execution_count": 4,
   "metadata": {},
   "outputs": [
    {
     "name": "stdout",
     "output_type": "stream",
     "text": [
      "Enter Key:asdfywdfg\n"
     ]
    }
   ],
   "source": [
    "t1.set_RC4key()"
   ]
  },
  {
   "cell_type": "code",
   "execution_count": 5,
   "metadata": {},
   "outputs": [
    {
     "name": "stdout",
     "output_type": "stream",
     "text": [
      "Enter key:7 44\n"
     ]
    }
   ],
   "source": [
    "t1.set_affinekey()"
   ]
  },
  {
   "cell_type": "markdown",
   "metadata": {},
   "source": []
  },
  {
   "cell_type": "code",
   "execution_count": 6,
   "metadata": {},
   "outputs": [
    {
     "name": "stdout",
     "output_type": "stream",
     "text": [
      "hi i am in new delhi\n"
     ]
    }
   ],
   "source": [
    "t1.decrypt()"
   ]
  },
  {
   "cell_type": "code",
   "execution_count": null,
   "metadata": {},
   "outputs": [],
   "source": []
  }
 ],
 "metadata": {
  "kernelspec": {
   "display_name": "Python 3",
   "language": "python",
   "name": "python3"
  },
  "language_info": {
   "codemirror_mode": {
    "name": "ipython",
    "version": 3
   },
   "file_extension": ".py",
   "mimetype": "text/x-python",
   "name": "python",
   "nbconvert_exporter": "python",
   "pygments_lexer": "ipython3",
   "version": "3.8.5"
  }
 },
 "nbformat": 4,
 "nbformat_minor": 4
}
